{
 "cells": [
  {
   "cell_type": "code",
   "execution_count": 1,
   "metadata": {
    "collapsed": true
   },
   "outputs": [],
   "source": [
    "import pandas as pd\n",
    "import numpy as np\n",
    "import collections as c\n",
    "from sklearn.utils import shuffle\n",
    "from itertools import cycle\n",
    "from scipy import interp\n",
    "import csv\n",
    "\n",
    "import warnings\n",
    "warnings.filterwarnings('ignore')\n",
    "\n",
    "import seaborn as sns\n",
    "sns.set(style=\"whitegrid\", palette=\"deep\")\n",
    "import matplotlib.pyplot as plt\n",
    "\n",
    "from sklearn.decomposition import PCA\n",
    "\n",
    "from sklearn.linear_model import LogisticRegression\n",
    "from sklearn.naive_bayes import GaussianNB, BernoulliNB\n",
    "from sklearn.neighbors import KNeighborsClassifier\n",
    "from sklearn.linear_model import LogisticRegression, SGDClassifier\n",
    "from sklearn.tree import DecisionTreeClassifier\n",
    "from sklearn.ensemble import RandomForestClassifier\n",
    "from sklearn.svm import SVC, LinearSVC\n",
    "\n",
    "from sklearn.model_selection import train_test_split\n",
    "from sklearn.model_selection import GridSearchCV, StratifiedKFold\n",
    "\n",
    "from sklearn.pipeline import Pipeline\n",
    "from sklearn.model_selection import learning_curve, validation_curve, cross_val_score, cross_val_predict\n",
    "\n",
    "from sklearn.metrics import confusion_matrix, classification_report\n",
    "from sklearn.metrics import precision_score, recall_score, f1_score\n",
    "from sklearn.metrics import precision_recall_curve, average_precision_score\n",
    "from sklearn.metrics import roc_curve, auc, roc_auc_score, accuracy_score"
   ]
  },
  {
   "cell_type": "code",
   "execution_count": 2,
   "metadata": {
    "collapsed": true
   },
   "outputs": [],
   "source": [
    "reg_season = pd.read_csv('data/RegularSeasonDetailedResults.csv')\n",
    "seasons = pd.read_csv('data/Seasons.csv', index_col = 'Season')\n",
    "teams = pd.read_csv('data/Teams.csv')#, index_col = 'Team_Id')\n",
    "tourney = pd.read_csv('data/TourneyDetailedResults.csv')\n",
    "seeds = pd.read_csv('data/TourneySeeds.csv')\n",
    "slots = pd.read_csv('data/TourneySlots.csv')\n",
    "submission = pd.read_csv('data/SampleSubmission2016.csv')"
   ]
  },
  {
   "cell_type": "code",
   "execution_count": 3,
   "metadata": {
    "collapsed": true
   },
   "outputs": [],
   "source": [
    "stats = pd.read_csv('data/stats_df.csv')\n",
    "cols = ['school', 'season', 'sos', 'srs']\n",
    "\n",
    "team_stats = stats[cols]"
   ]
  },
  {
   "cell_type": "code",
   "execution_count": 4,
   "metadata": {
    "collapsed": true
   },
   "outputs": [],
   "source": [
    "def make_id(row):\n",
    "    return str(row['Season']) + '_' + str(row['Wteam']) + '_' + str(row['Lteam'])"
   ]
  },
  {
   "cell_type": "code",
   "execution_count": 5,
   "metadata": {
    "collapsed": true
   },
   "outputs": [],
   "source": [
    "reg_season['game_id'] = None\n",
    "reg_season['game_id'] = reg_season.apply(lambda row: make_id(row),axis=1)"
   ]
  },
  {
   "cell_type": "code",
   "execution_count": 6,
   "metadata": {
    "collapsed": true
   },
   "outputs": [],
   "source": [
    "season_df = reg_season.copy()"
   ]
  },
  {
   "cell_type": "code",
   "execution_count": 7,
   "metadata": {
    "collapsed": true
   },
   "outputs": [],
   "source": [
    "#rename columns, winning team becomes team A, losing team becomes team B\n",
    "col_names = ['season', 'daynum', 'team_A', 'teamA_score', 'team_B', 'teamB_score', 'teamA_loc', 'num_OTs', \n",
    "               'teamA_fgm', 'teamA_fga', 'teamA_3ptm', 'teamA_3pta', 'teamA_ftm', 'teamA_fta', 'teamA_offreb',\n",
    "               'teamA_defreb', 'teamA_asts', 'teamA_turn_ovs', 'teamA_stls', 'teamA_blks', 'teamA_fouls', \n",
    "               'teamB_fgm', 'teamB_fga', 'teamB_3ptm', 'teamB_3pta', 'teamB_ftm', 'teamB_fta', 'teamB_offreb',\n",
    "               'teamB_defreb', 'teamB_asts', 'teamB_turn_ovs', 'teamB_stls', 'teamB_blks', 'teamB_fouls', 'game_id']\n",
    "\n",
    "season_df.columns = col_names"
   ]
  },
  {
   "cell_type": "code",
   "execution_count": 8,
   "metadata": {
    "collapsed": true
   },
   "outputs": [],
   "source": [
    "#shuffle data set to randomize seasons and games\n",
    "season_df = shuffle(season_df)"
   ]
  },
  {
   "cell_type": "code",
   "execution_count": 9,
   "metadata": {},
   "outputs": [
    {
     "data": {
      "text/plain": [
       "(76636, 35)"
      ]
     },
     "execution_count": 9,
     "metadata": {},
     "output_type": "execute_result"
    }
   ],
   "source": [
    "season_df.shape"
   ]
  },
  {
   "cell_type": "code",
   "execution_count": 10,
   "metadata": {
    "collapsed": true
   },
   "outputs": [],
   "source": [
    "#split data set in half, in order to set half of games to wins and half to losses\n",
    "season_df_1 = season_df[:int((season_df.shape[0]/2))]\n",
    "season_df_2 = season_df[int((season_df.shape[0]/2)):]"
   ]
  },
  {
   "cell_type": "code",
   "execution_count": 11,
   "metadata": {
    "collapsed": true
   },
   "outputs": [],
   "source": [
    "#rename columns of second data frame \n",
    "season_df_2.rename(columns={'team_A': 'team_B', 'teamA_score': 'teamB_score', 'team_B': 'team_A',\n",
    "                             'teamB_score': 'teamA_score', 'teamA_loc': 'teamB_loc', 'teamA_fgm': 'teamB_fgm',\n",
    "                             'teamA_fga': 'teamB_fga', 'teamA_3ptm': 'teamB_3ptm', 'teamA_3pta': 'teamB_3pta',\n",
    "                             'teamA_ftm': 'teamB_ftm', 'teamA_fta': 'teamB_fta', 'teamA_offreb': 'teamB_offreb',\n",
    "                             'teamA_defreb': 'teamB_defreb', 'teamA_asts': 'teamB_asts', \n",
    "                             'teamA_turn_ovs': 'teamB_turn_ovs', 'teamA_stls': 'teamB_stls', 'teamA_blks': 'teamB_blks',\n",
    "                             'teamA_fouls': 'teamB_fouls', 'teamB_fgm': 'teamA_fgm',\n",
    "                             'teamB_fga': 'teamA_fga', 'teamB_3ptm': 'teamA_3ptm', 'teamB_3pta': 'teamA_3pta',\n",
    "                             'teamB_ftm': 'teamA_ftm', 'teamB_fta': 'teamA_fta', 'teamB_offreb': 'teamA_offreb',\n",
    "                             'teamB_defreb': 'teamA_defreb', 'teamB_asts': 'teamA_asts', \n",
    "                             'teamB_turn_ovs': 'teamA_turn_ovs', 'teamB_stls': 'teamA_stls', 'teamB_blks': 'teamA_blks',\n",
    "                             'teamB_fouls': 'teamA_fouls'}, inplace=True)"
   ]
  },
  {
   "cell_type": "code",
   "execution_count": 12,
   "metadata": {
    "collapsed": true
   },
   "outputs": [],
   "source": [
    "season_df_1['teamA_win'] = 1\n",
    "season_df_2['teamA_win'] = 0"
   ]
  },
  {
   "cell_type": "code",
   "execution_count": 13,
   "metadata": {
    "collapsed": true
   },
   "outputs": [],
   "source": [
    "season_new_df = pd.concat((season_df_1, season_df_2))\n",
    "season_new_df = shuffle(season_new_df)"
   ]
  },
  {
   "cell_type": "code",
   "execution_count": 14,
   "metadata": {
    "collapsed": true
   },
   "outputs": [],
   "source": [
    "season_new_df['teamA_3ptper'] = season_new_df['teamA_3ptm'] / season_new_df['teamA_3pta']\n",
    "season_new_df['teamA_fgper'] = season_new_df['teamA_fgm'] / season_new_df['teamA_fga']\n",
    "season_new_df['teamA_ftper'] = season_new_df['teamA_ftm'] / season_new_df['teamA_fta']\n",
    "\n",
    "season_new_df['teamB_3ptper'] = season_new_df['teamB_3ptm'] / season_new_df['teamB_3pta']\n",
    "season_new_df['teamB_fgper'] = season_new_df['teamB_fgm'] / season_new_df['teamB_fga']\n",
    "season_new_df['teamB_ftper'] = season_new_df['teamB_ftm'] / season_new_df['teamB_fta']"
   ]
  },
  {
   "cell_type": "code",
   "execution_count": 15,
   "metadata": {
    "collapsed": true
   },
   "outputs": [],
   "source": [
    "season_new_df['3ptper_diff'] = season_new_df['teamA_3ptper'] - season_new_df['teamB_3ptper']\n",
    "season_new_df['fgper_diff'] = season_new_df['teamA_fgper'] - season_new_df['teamB_fgper']\n",
    "season_new_df['ftper_diff'] = season_new_df['teamA_ftper'] - season_new_df['teamB_ftper']\n",
    "\n",
    "season_new_df['asts_diff'] = season_new_df['teamA_asts'] - season_new_df['teamB_asts']\n",
    "season_new_df['stls_diff'] = season_new_df['teamA_stls'] - season_new_df['teamB_stls']\n",
    "season_new_df['blks_diff'] = season_new_df['teamA_blks'] - season_new_df['teamB_blks']\n",
    "\n",
    "season_new_df['turn_ovs_diff'] = season_new_df['teamA_turn_ovs'] - season_new_df['teamB_turn_ovs']\n",
    "season_new_df['offreb_diff'] = season_new_df['teamA_offreb'] - season_new_df['teamB_offreb']\n",
    "season_new_df['defreb_diff'] = season_new_df['teamA_defreb'] - season_new_df['teamB_defreb']\n",
    "season_new_df['fouls_diff'] = season_new_df['teamA_fouls'] - season_new_df['teamB_fouls']"
   ]
  },
  {
   "cell_type": "code",
   "execution_count": 16,
   "metadata": {
    "collapsed": true
   },
   "outputs": [],
   "source": [
    "#combine team_stats with teams data frame\n",
    "team_stats_df = pd.merge(left=team_stats, right=teams, left_on='school', right_on='Team_Name')"
   ]
  },
  {
   "cell_type": "code",
   "execution_count": 17,
   "metadata": {
    "collapsed": true
   },
   "outputs": [],
   "source": [
    "#bring in sos and srs data for team A\n",
    "season_new_df = pd.merge(left=season_new_df, right=team_stats_df[['season', 'Team_Id', 'sos', 'srs']], \n",
    "                         left_on=['season', 'team_A'], right_on=['season', 'Team_Id'], how='outer')\n",
    "\n",
    "season_new_df = season_new_df.drop(['Team_Id'], axis=1)\n",
    "season_new_df.rename(columns={'sos': 'teamA_sos', 'srs': 'teamA_srs'}, inplace=True)"
   ]
  },
  {
   "cell_type": "code",
   "execution_count": 18,
   "metadata": {
    "collapsed": true
   },
   "outputs": [],
   "source": [
    "#bring in sos and srs data for team B\n",
    "season_new_df = pd.merge(left=season_new_df, right=team_stats_df[['season', 'Team_Id', 'sos', 'srs']], \n",
    "                         left_on=['season', 'team_B'], right_on=['season', 'Team_Id'], how='outer')\n",
    "\n",
    "season_new_df = season_new_df.drop(['Team_Id'], axis=1)\n",
    "season_new_df.rename(columns={'sos': 'teamB_sos', 'srs': 'teamB_srs'}, inplace=True)"
   ]
  },
  {
   "cell_type": "code",
   "execution_count": 21,
   "metadata": {},
   "outputs": [],
   "source": [
    "season_new_df = season_new_df.replace(np.nan, 0)"
   ]
  },
  {
   "cell_type": "code",
   "execution_count": 23,
   "metadata": {
    "collapsed": true
   },
   "outputs": [],
   "source": [
    "season_new_df['srs_diff'] = season_new_df['teamA_srs'] - season_new_df['teamB_srs']\n",
    "season_new_df['sos_diff'] = season_new_df['teamA_sos'] - season_new_df['teamB_sos']"
   ]
  },
  {
   "cell_type": "code",
   "execution_count": 24,
   "metadata": {
    "collapsed": true
   },
   "outputs": [],
   "source": [
    "final_cols = ['team_A', 'team_B', 'daynum', 'season', 'game_id', '3ptper_diff', 'fgper_diff',\n",
    "                    'ftper_diff', 'asts_diff', 'stls_diff', 'blks_diff', 'turn_ovs_diff', 'offreb_diff',\n",
    "                    'defreb_diff', 'fouls_diff', 'teamA_win', 'sos_diff', 'srs_diff']\n",
    "\n",
    "final_df = season_new_df[final_cols]"
   ]
  },
  {
   "cell_type": "code",
   "execution_count": 25,
   "metadata": {},
   "outputs": [
    {
     "name": "stdout",
     "output_type": "stream",
     "text": [
      "<class 'pandas.core.frame.DataFrame'>\n",
      "Int64Index: 78424 entries, 0 to 78423\n",
      "Data columns (total 18 columns):\n",
      "team_A           78424 non-null float64\n",
      "team_B           78424 non-null float64\n",
      "daynum           78424 non-null float64\n",
      "season           78424 non-null int64\n",
      "game_id          78424 non-null object\n",
      "3ptper_diff      78424 non-null float64\n",
      "fgper_diff       78424 non-null float64\n",
      "ftper_diff       78424 non-null float64\n",
      "asts_diff        78424 non-null float64\n",
      "stls_diff        78424 non-null float64\n",
      "blks_diff        78424 non-null float64\n",
      "turn_ovs_diff    78424 non-null float64\n",
      "offreb_diff      78424 non-null float64\n",
      "defreb_diff      78424 non-null float64\n",
      "fouls_diff       78424 non-null float64\n",
      "teamA_win        78424 non-null float64\n",
      "sos_diff         78424 non-null float64\n",
      "srs_diff         78424 non-null float64\n",
      "dtypes: float64(16), int64(1), object(1)\n",
      "memory usage: 11.4+ MB\n"
     ]
    }
   ],
   "source": [
    "#final_df = final_df.dropna()\n",
    "final_df.info()"
   ]
  },
  {
   "cell_type": "code",
   "execution_count": 31,
   "metadata": {
    "collapsed": true
   },
   "outputs": [],
   "source": [
    "def createTrainingSet(df, year):\n",
    "    df_train = df[df['season'] != year] #remove one year to test on later\n",
    "    feat_cols = ['3ptper_diff', 'fgper_diff', 'ftper_diff', 'asts_diff',\n",
    "                 'blks_diff', 'turn_ovs_diff', 'offreb_diff', 'defreb_diff', 'fouls_diff',\n",
    "                 'sos_diff', 'srs_diff']\n",
    "    \n",
    "    X_train = df_train[feat_cols]\n",
    "    y_train = df_train['teamA_win']\n",
    "\n",
    "    return X_train, y_train"
   ]
  },
  {
   "cell_type": "code",
   "execution_count": 32,
   "metadata": {
    "collapsed": true
   },
   "outputs": [],
   "source": [
    "def createTestSet(df, year):\n",
    "    df_test = df[df['season'] == year]\n",
    "    feat_cols = ['3ptper_diff', 'fgper_diff', 'ftper_diff', 'asts_diff',\n",
    "                 'blks_diff', 'turn_ovs_diff', 'offreb_diff', 'defreb_diff', 'fouls_diff',\n",
    "                 'sos_diff', 'srs_diff']\n",
    "    \n",
    "    X_test = df_test[feat_cols]\n",
    "    y_test = df_test['teamA_win']\n",
    "\n",
    "    return X_test, y_test"
   ]
  },
  {
   "cell_type": "code",
   "execution_count": 33,
   "metadata": {
    "collapsed": true
   },
   "outputs": [],
   "source": [
    "year = 2016  #season to predict\n",
    "X_train, y_train = createTrainingSet(final_df, year)\n",
    "X_test, y_test = createTestSet(final_df, year)"
   ]
  },
  {
   "cell_type": "code",
   "execution_count": 56,
   "metadata": {
    "collapsed": true
   },
   "outputs": [],
   "source": [
    "feat_cols = ['3ptper_diff', 'fgper_diff', 'ftper_diff', 'asts_diff',\n",
    "             'blks_diff', 'turn_ovs_diff', 'offreb_diff', 'defreb_diff', 'fouls_diff',\n",
    "             'sos_diff', 'srs_diff']\n",
    "\n",
    "X = final_df[feat_cols]\n",
    "y = final_df['teamA_win']\n",
    "\n",
    "\n",
    "X_train, X_test, y_train, y_test = train_test_split(X, y, test_size = 0.25)"
   ]
  },
  {
   "cell_type": "code",
   "execution_count": 35,
   "metadata": {},
   "outputs": [
    {
     "data": {
      "image/png": "[encoded data removed]",
      "text/plain": [
       "<matplotlib.figure.Figure at 0x7ff013110c50>"
      ]
     },
     "metadata": {},
     "output_type": "display_data"
    }
   ],
   "source": [
    "pca = PCA()\n",
    "\n",
    "pca.fit(X_train)\n",
    "exp_var = pca.explained_variance_ratio_\n",
    "exp_var_sum = np.cumsum(exp_var)\n",
    "\n",
    "#plot explained variance ratio\n",
    "plt.bar(range(1, len(exp_var) + 1), exp_var_sum, alpha=0.5, align='center',\n",
    "        label='individual explained variance')\n",
    "plt.step(range(1, len(exp_var) + 1), exp_var_sum, where='mid', label='cumulative explained variance')\n",
    "plt.ylabel('Explained Variance rRatio')\n",
    "plt.xlabel('Principal Components')\n",
    "plt.legend(loc='lower right')\n",
    "plt.tight_layout()\n",
    "plt.show()"
   ]
  },
  {
   "cell_type": "code",
   "execution_count": 36,
   "metadata": {},
   "outputs": [
    {
     "data": {
      "image/png": "[encoded data removed]",
      "text/plain": [
       "<matplotlib.figure.Figure at 0x7ff049193630>"
      ]
     },
     "metadata": {},
     "output_type": "display_data"
    }
   ],
   "source": [
    "import seaborn as sns\n",
    "\n",
    "cols = ['3ptper_diff', 'fgper_diff', 'ftper_diff', 'asts_diff', 'stls_diff', 'blks_diff', \n",
    "                 'turn_ovs_diff', 'offreb_diff', 'defreb_diff', 'fouls_diff', 'teamA_win', 'sos_diff', 'srs_diff']\n",
    "\n",
    "f, ax = plt.subplots(figsize=(14, 10))\n",
    "corr = final_df[cols].corr()\n",
    "sns.heatmap(corr, mask=np.zeros_like(corr, dtype=np.bool), cmap=sns.diverging_palette(220, 10, as_cmap=True),\n",
    "            square=True, ax=ax)\n",
    "plt.tight_layout\n",
    "plt.show()"
   ]
  },
  {
   "cell_type": "code",
   "execution_count": 37,
   "metadata": {},
   "outputs": [
    {
     "data": {
      "text/html": [
       "<div>\n",
       "<style>\n",
       "    .dataframe thead tr:only-child th {\n",
       "        text-align: right;\n",
       "    }\n",
       "\n",
       "    .dataframe thead th {\n",
       "        text-align: left;\n",
       "    }\n",
       "\n",
       "    .dataframe tbody tr th {\n",
       "        vertical-align: top;\n",
       "    }\n",
       "</style>\n",
       "<table border=\"1\" class=\"dataframe\">\n",
       "  <thead>\n",
       "    <tr style=\"text-align: right;\">\n",
       "      <th></th>\n",
       "      <th>3ptper_diff</th>\n",
       "      <th>fgper_diff</th>\n",
       "      <th>ftper_diff</th>\n",
       "      <th>asts_diff</th>\n",
       "      <th>stls_diff</th>\n",
       "      <th>blks_diff</th>\n",
       "      <th>turn_ovs_diff</th>\n",
       "      <th>offreb_diff</th>\n",
       "      <th>defreb_diff</th>\n",
       "      <th>fouls_diff</th>\n",
       "      <th>teamA_win</th>\n",
       "      <th>sos_diff</th>\n",
       "      <th>srs_diff</th>\n",
       "    </tr>\n",
       "  </thead>\n",
       "  <tbody>\n",
       "    <tr>\n",
       "      <th>3ptper_diff</th>\n",
       "      <td>1.000000</td>\n",
       "      <td>0.526716</td>\n",
       "      <td>0.050065</td>\n",
       "      <td>0.449665</td>\n",
       "      <td>-0.001337</td>\n",
       "      <td>0.114391</td>\n",
       "      <td>0.049808</td>\n",
       "      <td>-0.250414</td>\n",
       "      <td>0.405398</td>\n",
       "      <td>-0.054102</td>\n",
       "      <td>0.432002</td>\n",
       "      <td>0.020804</td>\n",
       "      <td>0.088862</td>\n",
       "    </tr>\n",
       "    <tr>\n",
       "      <th>fgper_diff</th>\n",
       "      <td>0.526716</td>\n",
       "      <td>1.000000</td>\n",
       "      <td>0.059174</td>\n",
       "      <td>0.637700</td>\n",
       "      <td>0.063789</td>\n",
       "      <td>0.419897</td>\n",
       "      <td>0.027448</td>\n",
       "      <td>-0.330284</td>\n",
       "      <td>0.774286</td>\n",
       "      <td>-0.192491</td>\n",
       "      <td>0.647773</td>\n",
       "      <td>0.082056</td>\n",
       "      <td>0.203164</td>\n",
       "    </tr>\n",
       "    <tr>\n",
       "      <th>ftper_diff</th>\n",
       "      <td>0.050065</td>\n",
       "      <td>0.059174</td>\n",
       "      <td>1.000000</td>\n",
       "      <td>0.046592</td>\n",
       "      <td>0.019132</td>\n",
       "      <td>0.031894</td>\n",
       "      <td>-0.012501</td>\n",
       "      <td>-0.100289</td>\n",
       "      <td>0.256864</td>\n",
       "      <td>-0.075636</td>\n",
       "      <td>0.206793</td>\n",
       "      <td>0.004218</td>\n",
       "      <td>0.043190</td>\n",
       "    </tr>\n",
       "    <tr>\n",
       "      <th>asts_diff</th>\n",
       "      <td>0.449665</td>\n",
       "      <td>0.637700</td>\n",
       "      <td>0.046592</td>\n",
       "      <td>1.000000</td>\n",
       "      <td>0.178171</td>\n",
       "      <td>0.287356</td>\n",
       "      <td>-0.205867</td>\n",
       "      <td>-0.044200</td>\n",
       "      <td>0.461865</td>\n",
       "      <td>-0.090022</td>\n",
       "      <td>0.529387</td>\n",
       "      <td>0.069653</td>\n",
       "      <td>0.208007</td>\n",
       "    </tr>\n",
       "    <tr>\n",
       "      <th>stls_diff</th>\n",
       "      <td>-0.001337</td>\n",
       "      <td>0.063789</td>\n",
       "      <td>0.019132</td>\n",
       "      <td>0.178171</td>\n",
       "      <td>1.000000</td>\n",
       "      <td>0.031596</td>\n",
       "      <td>-0.727876</td>\n",
       "      <td>0.043418</td>\n",
       "      <td>-0.197730</td>\n",
       "      <td>-0.071818</td>\n",
       "      <td>0.248175</td>\n",
       "      <td>0.040187</td>\n",
       "      <td>0.131463</td>\n",
       "    </tr>\n",
       "    <tr>\n",
       "      <th>blks_diff</th>\n",
       "      <td>0.114391</td>\n",
       "      <td>0.419897</td>\n",
       "      <td>0.031894</td>\n",
       "      <td>0.287356</td>\n",
       "      <td>0.031596</td>\n",
       "      <td>1.000000</td>\n",
       "      <td>0.002921</td>\n",
       "      <td>-0.203251</td>\n",
       "      <td>0.328097</td>\n",
       "      <td>-0.168497</td>\n",
       "      <td>0.290561</td>\n",
       "      <td>0.078928</td>\n",
       "      <td>0.132503</td>\n",
       "    </tr>\n",
       "    <tr>\n",
       "      <th>turn_ovs_diff</th>\n",
       "      <td>0.049808</td>\n",
       "      <td>0.027448</td>\n",
       "      <td>-0.012501</td>\n",
       "      <td>-0.205867</td>\n",
       "      <td>-0.727876</td>\n",
       "      <td>0.002921</td>\n",
       "      <td>1.000000</td>\n",
       "      <td>-0.048363</td>\n",
       "      <td>0.379123</td>\n",
       "      <td>0.139969</td>\n",
       "      <td>-0.250811</td>\n",
       "      <td>-0.046818</td>\n",
       "      <td>-0.138480</td>\n",
       "    </tr>\n",
       "    <tr>\n",
       "      <th>offreb_diff</th>\n",
       "      <td>-0.250414</td>\n",
       "      <td>-0.330284</td>\n",
       "      <td>-0.100289</td>\n",
       "      <td>-0.044200</td>\n",
       "      <td>0.043418</td>\n",
       "      <td>-0.203251</td>\n",
       "      <td>-0.048363</td>\n",
       "      <td>1.000000</td>\n",
       "      <td>0.017701</td>\n",
       "      <td>-0.035788</td>\n",
       "      <td>-0.037258</td>\n",
       "      <td>0.027851</td>\n",
       "      <td>0.069964</td>\n",
       "    </tr>\n",
       "    <tr>\n",
       "      <th>defreb_diff</th>\n",
       "      <td>0.405398</td>\n",
       "      <td>0.774286</td>\n",
       "      <td>0.256864</td>\n",
       "      <td>0.461865</td>\n",
       "      <td>-0.197730</td>\n",
       "      <td>0.328097</td>\n",
       "      <td>0.379123</td>\n",
       "      <td>0.017701</td>\n",
       "      <td>1.000000</td>\n",
       "      <td>-0.261984</td>\n",
       "      <td>0.556972</td>\n",
       "      <td>0.069421</td>\n",
       "      <td>0.166926</td>\n",
       "    </tr>\n",
       "    <tr>\n",
       "      <th>fouls_diff</th>\n",
       "      <td>-0.054102</td>\n",
       "      <td>-0.192491</td>\n",
       "      <td>-0.075636</td>\n",
       "      <td>-0.090022</td>\n",
       "      <td>-0.071818</td>\n",
       "      <td>-0.168497</td>\n",
       "      <td>0.139969</td>\n",
       "      <td>-0.035788</td>\n",
       "      <td>-0.261984</td>\n",
       "      <td>1.000000</td>\n",
       "      <td>-0.438799</td>\n",
       "      <td>-0.056472</td>\n",
       "      <td>-0.109184</td>\n",
       "    </tr>\n",
       "    <tr>\n",
       "      <th>teamA_win</th>\n",
       "      <td>0.432002</td>\n",
       "      <td>0.647773</td>\n",
       "      <td>0.206793</td>\n",
       "      <td>0.529387</td>\n",
       "      <td>0.248175</td>\n",
       "      <td>0.290561</td>\n",
       "      <td>-0.250811</td>\n",
       "      <td>-0.037258</td>\n",
       "      <td>0.556972</td>\n",
       "      <td>-0.438799</td>\n",
       "      <td>1.000000</td>\n",
       "      <td>0.062567</td>\n",
       "      <td>0.219561</td>\n",
       "    </tr>\n",
       "    <tr>\n",
       "      <th>sos_diff</th>\n",
       "      <td>0.020804</td>\n",
       "      <td>0.082056</td>\n",
       "      <td>0.004218</td>\n",
       "      <td>0.069653</td>\n",
       "      <td>0.040187</td>\n",
       "      <td>0.078928</td>\n",
       "      <td>-0.046818</td>\n",
       "      <td>0.027851</td>\n",
       "      <td>0.069421</td>\n",
       "      <td>-0.056472</td>\n",
       "      <td>0.062567</td>\n",
       "      <td>1.000000</td>\n",
       "      <td>0.737928</td>\n",
       "    </tr>\n",
       "    <tr>\n",
       "      <th>srs_diff</th>\n",
       "      <td>0.088862</td>\n",
       "      <td>0.203164</td>\n",
       "      <td>0.043190</td>\n",
       "      <td>0.208007</td>\n",
       "      <td>0.131463</td>\n",
       "      <td>0.132503</td>\n",
       "      <td>-0.138480</td>\n",
       "      <td>0.069964</td>\n",
       "      <td>0.166926</td>\n",
       "      <td>-0.109184</td>\n",
       "      <td>0.219561</td>\n",
       "      <td>0.737928</td>\n",
       "      <td>1.000000</td>\n",
       "    </tr>\n",
       "  </tbody>\n",
       "</table>\n",
       "</div>"
      ],
      "text/plain": [
       "               3ptper_diff  fgper_diff  ftper_diff  asts_diff  stls_diff  \\\n",
       "3ptper_diff       1.000000    0.526716    0.050065   0.449665  -0.001337   \n",
       "fgper_diff        0.526716    1.000000    0.059174   0.637700   0.063789   \n",
       "ftper_diff        0.050065    0.059174    1.000000   0.046592   0.019132   \n",
       "asts_diff         0.449665    0.637700    0.046592   1.000000   0.178171   \n",
       "stls_diff        -0.001337    0.063789    0.019132   0.178171   1.000000   \n",
       "blks_diff         0.114391    0.419897    0.031894   0.287356   0.031596   \n",
       "turn_ovs_diff     0.049808    0.027448   -0.012501  -0.205867  -0.727876   \n",
       "offreb_diff      -0.250414   -0.330284   -0.100289  -0.044200   0.043418   \n",
       "defreb_diff       0.405398    0.774286    0.256864   0.461865  -0.197730   \n",
       "fouls_diff       -0.054102   -0.192491   -0.075636  -0.090022  -0.071818   \n",
       "teamA_win         0.432002    0.647773    0.206793   0.529387   0.248175   \n",
       "sos_diff          0.020804    0.082056    0.004218   0.069653   0.040187   \n",
       "srs_diff          0.088862    0.203164    0.043190   0.208007   0.131463   \n",
       "\n",
       "               blks_diff  turn_ovs_diff  offreb_diff  defreb_diff  fouls_diff  \\\n",
       "3ptper_diff     0.114391       0.049808    -0.250414     0.405398   -0.054102   \n",
       "fgper_diff      0.419897       0.027448    -0.330284     0.774286   -0.192491   \n",
       "ftper_diff      0.031894      -0.012501    -0.100289     0.256864   -0.075636   \n",
       "asts_diff       0.287356      -0.205867    -0.044200     0.461865   -0.090022   \n",
       "stls_diff       0.031596      -0.727876     0.043418    -0.197730   -0.071818   \n",
       "blks_diff       1.000000       0.002921    -0.203251     0.328097   -0.168497   \n",
       "turn_ovs_diff   0.002921       1.000000    -0.048363     0.379123    0.139969   \n",
       "offreb_diff    -0.203251      -0.048363     1.000000     0.017701   -0.035788   \n",
       "defreb_diff     0.328097       0.379123     0.017701     1.000000   -0.261984   \n",
       "fouls_diff     -0.168497       0.139969    -0.035788    -0.261984    1.000000   \n",
       "teamA_win       0.290561      -0.250811    -0.037258     0.556972   -0.438799   \n",
       "sos_diff        0.078928      -0.046818     0.027851     0.069421   -0.056472   \n",
       "srs_diff        0.132503      -0.138480     0.069964     0.166926   -0.109184   \n",
       "\n",
       "               teamA_win  sos_diff  srs_diff  \n",
       "3ptper_diff     0.432002  0.020804  0.088862  \n",
       "fgper_diff      0.647773  0.082056  0.203164  \n",
       "ftper_diff      0.206793  0.004218  0.043190  \n",
       "asts_diff       0.529387  0.069653  0.208007  \n",
       "stls_diff       0.248175  0.040187  0.131463  \n",
       "blks_diff       0.290561  0.078928  0.132503  \n",
       "turn_ovs_diff  -0.250811 -0.046818 -0.138480  \n",
       "offreb_diff    -0.037258  0.027851  0.069964  \n",
       "defreb_diff     0.556972  0.069421  0.166926  \n",
       "fouls_diff     -0.438799 -0.056472 -0.109184  \n",
       "teamA_win       1.000000  0.062567  0.219561  \n",
       "sos_diff        0.062567  1.000000  0.737928  \n",
       "srs_diff        0.219561  0.737928  1.000000  "
      ]
     },
     "execution_count": 37,
     "metadata": {},
     "output_type": "execute_result"
    }
   ],
   "source": [
    "corr"
   ]
  },
  {
   "cell_type": "code",
   "execution_count": 57,
   "metadata": {},
   "outputs": [
    {
     "data": {
      "image/png": "[encoded data removed]",
      "text/plain": [
       "<matplotlib.figure.Figure at 0x7ff0129fbcf8>"
      ]
     },
     "metadata": {},
     "output_type": "display_data"
    }
   ],
   "source": [
    "cv = StratifiedKFold(n_splits=10)\n",
    "models = {\n",
    "    'k-Nearest Neighbors': KNeighborsClassifier(),\n",
    "    'Gaussian Naive Bayes': GaussianNB(),\n",
    "    'Logistic Regression': LogisticRegression(),\n",
    "    'Decision Tree': DecisionTreeClassifier(),\n",
    "    'Random Forest': RandomForestClassifier(),\n",
    "    'Bernoulli Naive Bayes': BernoulliNB()\n",
    "}\n",
    "\n",
    "mean_tpr = 0.0\n",
    "mean_fpr = np.linspace(0, 1, 100)\n",
    "\n",
    "colors = cycle(['cyan', 'indigo', 'orange', 'seagreen', 'blue', 'salmon', 'darkorange'])\n",
    "lw=1.5  #line width\n",
    "i = 0\n",
    "for (name, model), color in zip(models.items(), colors):\n",
    "    probas_ = model.fit(X_train, y_train).predict_proba(X_test)\n",
    "    # Compute ROC curve and area the curve\n",
    "    fpr, tpr, thresholds = roc_curve(y_test, probas_[:, 1])\n",
    "    mean_tpr += interp(mean_fpr, fpr, tpr)\n",
    "    mean_tpr[0] = 0.0\n",
    "    roc_auc = auc(fpr, tpr)\n",
    "    plt.plot(fpr, tpr, lw=lw, color=color, alpha=0.6,\n",
    "             label='ROC %s (area = %0.2f)' % (name, roc_auc))\n",
    "\n",
    "    i += 1\n",
    "        \n",
    "plt.plot([0, 1], [0, 1], linestyle='--', lw=lw, color='k',\n",
    "         label='Luck')\n",
    "\n",
    "mean_tpr /= i\n",
    "mean_tpr[-1] = 1.0\n",
    "mean_auc = auc(mean_fpr, mean_tpr)\n",
    "plt.plot(mean_fpr, mean_tpr, color='g', linestyle='-.',\n",
    "         label='Mean ROC (area = %0.2f)' % mean_auc, lw=lw)\n",
    "\n",
    "plt.xlim([-0.05, 1.05])\n",
    "plt.ylim([-0.05, 1.05])\n",
    "plt.xlabel('False Positive Rate')\n",
    "plt.ylabel('True Positive Rate')\n",
    "plt.title('Receiver Operating Characteristic Curves')\n",
    "plt.legend(loc=\"lower right\")\n",
    "\n",
    "plt.tight_layout\n",
    "#plt.savefig('figures/ROC.png', bbox_inches='tight', dpi=300)\n",
    "\n",
    "plt.show()"
   ]
  },
  {
   "cell_type": "code",
   "execution_count": 41,
   "metadata": {
    "collapsed": true
   },
   "outputs": [],
   "source": [
    "def prec_recal_score(model, f, l):\n",
    "    cross_val_score(model, f, l, cv=10, scoring = 'accuracy')\n",
    "    y_train_pred = cross_val_predict(model, f, l, cv=5)\n",
    "    prec_score = precision_score(l, y_train_pred)\n",
    "    recal_score = recall_score(l, y_train_pred)    \n",
    "    \n",
    "    cm = confusion_matrix(l, y_train_pred)\n",
    "    TN = cm[0][0]\n",
    "    FN = cm[1][0]\n",
    "    TP = cm[1][1]\n",
    "    FP = cm[0][1]\n",
    "\n",
    "    # Sensitivity, hit rate, recall, or true positive rate\n",
    "    TPR = TP/(TP+FN)\n",
    "    # Specificity or true negative rate\n",
    "    TNR = TN/(TN+FP) \n",
    "    # Precision or positive predictive value\n",
    "    PPV = TP/(TP+FP)\n",
    "    # Negative predictive value\n",
    "    NPV = TN/(TN+FN)\n",
    "    # Fall out or false positive rate\n",
    "    FPR = FP/(FP+TN)\n",
    "    # False negative rate\n",
    "    FNR = FN/(TP+FN)\n",
    "    # False discovery rate\n",
    "    FDR = FP/(TP+FP)\n",
    "    # Overall accuracy\n",
    "    ACC = (TP+TN)/(TP+FP+FN+TN)\n",
    "        \n",
    "    print('Model: ', model)\n",
    "    print('Precision Score: ', prec_score)\n",
    "    print('Recall Score', recal_score)\n",
    "    print('Specificity Score: ', TNR, '\\n')\n",
    "    print(classification_report(l, y_train_pred))\n",
    "    print(confusion_matrix(l, y_train_pred))"
   ]
  },
  {
   "cell_type": "code",
   "execution_count": 58,
   "metadata": {},
   "outputs": [
    {
     "name": "stdout",
     "output_type": "stream",
     "text": [
      "Train accuracy:  0.944472780441\n",
      "Test accuracy:  0.945985922677\n"
     ]
    }
   ],
   "source": [
    "lr = LogisticRegression()\n",
    "\n",
    "lr.fit(X_train, y_train)\n",
    "\n",
    "train_acc = lr.score(X_train, y_train)\n",
    "test_acc = lr.score(X_test, y_test)\n",
    "\n",
    "print('Train accuracy: ', train_acc)\n",
    "print('Test accuracy: ', test_acc)"
   ]
  },
  {
   "cell_type": "code",
   "execution_count": 43,
   "metadata": {},
   "outputs": [
    {
     "name": "stdout",
     "output_type": "stream",
     "text": [
      "0.937909132429\n"
     ]
    }
   ],
   "source": [
    "cv_scores = cross_val_score(lr, X_train, y_train, cv=5, scoring='accuracy')\n",
    "print(np.mean(cv_scores))"
   ]
  },
  {
   "cell_type": "code",
   "execution_count": 44,
   "metadata": {},
   "outputs": [
    {
     "name": "stdout",
     "output_type": "stream",
     "text": [
      "Model:  LogisticRegression(C=1.0, class_weight=None, dual=False, fit_intercept=True,\n",
      "          intercept_scaling=1, max_iter=100, multi_class='ovr', n_jobs=1,\n",
      "          penalty='l2', random_state=None, solver='liblinear', tol=0.0001,\n",
      "          verbose=0, warm_start=False)\n",
      "Precision Score:  0.935715689302\n",
      "Recall Score 0.936872874448\n",
      "Specificity Score:  0.938894225638 \n",
      "\n",
      "             precision    recall  f1-score   support\n",
      "\n",
      "        0.0       0.94      0.94      0.94     37476\n",
      "        1.0       0.94      0.94      0.94     35579\n",
      "\n",
      "avg / total       0.94      0.94      0.94     73055\n",
      "\n",
      "[[35186  2290]\n",
      " [ 2246 33333]]\n"
     ]
    }
   ],
   "source": [
    "prec_recal_score(lr, X_train, y_train)"
   ]
  },
  {
   "cell_type": "code",
   "execution_count": 45,
   "metadata": {},
   "outputs": [
    {
     "name": "stdout",
     "output_type": "stream",
     "text": [
      "Train accuracy:  0.879241667237\n",
      "Test accuracy:  0.881914695474\n"
     ]
    }
   ],
   "source": [
    "nb = GaussianNB()\n",
    "nb.fit(X_train, y_train)\n",
    "\n",
    "train_acc = nb.score(X_train, y_train)\n",
    "test_acc = nb.score(X_test, y_test)\n",
    "\n",
    "print('Train accuracy: ', train_acc)\n",
    "print('Test accuracy: ', test_acc)"
   ]
  },
  {
   "cell_type": "code",
   "execution_count": 46,
   "metadata": {},
   "outputs": [
    {
     "name": "stdout",
     "output_type": "stream",
     "text": [
      "Model:  GaussianNB(priors=None)\n",
      "Precision Score:  0.871565013405\n",
      "Recall Score 0.877174737907\n",
      "Specificity Score:  0.877281460134 \n",
      "\n",
      "             precision    recall  f1-score   support\n",
      "\n",
      "        0.0       0.88      0.88      0.88     37476\n",
      "        1.0       0.87      0.88      0.87     35579\n",
      "\n",
      "avg / total       0.88      0.88      0.88     73055\n",
      "\n",
      "[[32877  4599]\n",
      " [ 4370 31209]]\n"
     ]
    }
   ],
   "source": [
    "prec_recal_score(nb, X_train, y_train)"
   ]
  },
  {
   "cell_type": "code",
   "execution_count": 47,
   "metadata": {},
   "outputs": [
    {
     "name": "stdout",
     "output_type": "stream",
     "text": [
      "Train accuracy:  1.0\n",
      "Test accuracy:  0.894952505122\n"
     ]
    }
   ],
   "source": [
    "dtc = DecisionTreeClassifier(random_state = 42)\n",
    "\n",
    "dtc.fit(X_train, y_train)\n",
    "\n",
    "train_acc = dtc.score(X_train, y_train)\n",
    "test_acc = dtc.score(X_test, y_test)\n",
    "\n",
    "print('Train accuracy: ', train_acc)\n",
    "print('Test accuracy: ', test_acc)"
   ]
  },
  {
   "cell_type": "code",
   "execution_count": 48,
   "metadata": {},
   "outputs": [
    {
     "name": "stdout",
     "output_type": "stream",
     "text": [
      "Model:  DecisionTreeClassifier(class_weight=None, criterion='gini', max_depth=None,\n",
      "            max_features=None, max_leaf_nodes=None,\n",
      "            min_impurity_split=1e-07, min_samples_leaf=1,\n",
      "            min_samples_split=2, min_weight_fraction_leaf=0.0,\n",
      "            presort=False, random_state=42, splitter='best')\n",
      "Precision Score:  0.855267396907\n",
      "Recall Score 0.895387728716\n",
      "Specificity Score:  0.856147934678 \n",
      "\n",
      "             precision    recall  f1-score   support\n",
      "\n",
      "        0.0       0.90      0.86      0.88     37476\n",
      "        1.0       0.86      0.90      0.87     35579\n",
      "\n",
      "avg / total       0.88      0.88      0.88     73055\n",
      "\n",
      "[[32085  5391]\n",
      " [ 3722 31857]]\n"
     ]
    }
   ],
   "source": [
    "prec_recal_score(dtc, X_train, y_train)"
   ]
  },
  {
   "cell_type": "code",
   "execution_count": 49,
   "metadata": {},
   "outputs": [
    {
     "data": {
      "text/html": [
       "<div>\n",
       "<style>\n",
       "    .dataframe thead tr:only-child th {\n",
       "        text-align: right;\n",
       "    }\n",
       "\n",
       "    .dataframe thead th {\n",
       "        text-align: left;\n",
       "    }\n",
       "\n",
       "    .dataframe tbody tr th {\n",
       "        vertical-align: top;\n",
       "    }\n",
       "</style>\n",
       "<table border=\"1\" class=\"dataframe\">\n",
       "  <thead>\n",
       "    <tr style=\"text-align: right;\">\n",
       "      <th></th>\n",
       "      <th>feature</th>\n",
       "      <th>importance</th>\n",
       "    </tr>\n",
       "  </thead>\n",
       "  <tbody>\n",
       "    <tr>\n",
       "      <th>0</th>\n",
       "      <td>3ptper_diff</td>\n",
       "      <td>0.055081</td>\n",
       "    </tr>\n",
       "    <tr>\n",
       "      <th>1</th>\n",
       "      <td>fgper_diff</td>\n",
       "      <td>0.496161</td>\n",
       "    </tr>\n",
       "    <tr>\n",
       "      <th>2</th>\n",
       "      <td>ftper_diff</td>\n",
       "      <td>0.043509</td>\n",
       "    </tr>\n",
       "    <tr>\n",
       "      <th>3</th>\n",
       "      <td>asts_diff</td>\n",
       "      <td>0.033283</td>\n",
       "    </tr>\n",
       "    <tr>\n",
       "      <th>4</th>\n",
       "      <td>blks_diff</td>\n",
       "      <td>0.013036</td>\n",
       "    </tr>\n",
       "    <tr>\n",
       "      <th>5</th>\n",
       "      <td>turn_ovs_diff</td>\n",
       "      <td>0.105043</td>\n",
       "    </tr>\n",
       "    <tr>\n",
       "      <th>6</th>\n",
       "      <td>offreb_diff</td>\n",
       "      <td>0.038830</td>\n",
       "    </tr>\n",
       "    <tr>\n",
       "      <th>7</th>\n",
       "      <td>defreb_diff</td>\n",
       "      <td>0.068016</td>\n",
       "    </tr>\n",
       "    <tr>\n",
       "      <th>8</th>\n",
       "      <td>fouls_diff</td>\n",
       "      <td>0.121764</td>\n",
       "    </tr>\n",
       "    <tr>\n",
       "      <th>9</th>\n",
       "      <td>sos_diff</td>\n",
       "      <td>0.012172</td>\n",
       "    </tr>\n",
       "    <tr>\n",
       "      <th>10</th>\n",
       "      <td>srs_diff</td>\n",
       "      <td>0.013105</td>\n",
       "    </tr>\n",
       "  </tbody>\n",
       "</table>\n",
       "</div>"
      ],
      "text/plain": [
       "          feature  importance\n",
       "0     3ptper_diff    0.055081\n",
       "1      fgper_diff    0.496161\n",
       "2      ftper_diff    0.043509\n",
       "3       asts_diff    0.033283\n",
       "4       blks_diff    0.013036\n",
       "5   turn_ovs_diff    0.105043\n",
       "6     offreb_diff    0.038830\n",
       "7     defreb_diff    0.068016\n",
       "8      fouls_diff    0.121764\n",
       "9        sos_diff    0.012172\n",
       "10       srs_diff    0.013105"
      ]
     },
     "execution_count": 49,
     "metadata": {},
     "output_type": "execute_result"
    }
   ],
   "source": [
    "pd.DataFrame({'feature': X_train.columns, 'importance': dtc.feature_importances_})"
   ]
  },
  {
   "cell_type": "code",
   "execution_count": 50,
   "metadata": {},
   "outputs": [
    {
     "name": "stdout",
     "output_type": "stream",
     "text": [
      "Train accuracy:  0.880555745671\n",
      "Test accuracy:  0.888992363569\n"
     ]
    }
   ],
   "source": [
    "sgd = SGDClassifier()\n",
    "\n",
    "sgd.fit(X_train, y_train)\n",
    "\n",
    "train_acc = sgd.score(X_train, y_train)\n",
    "test_acc = sgd.score(X_test, y_test)\n",
    "\n",
    "print('Train accuracy: ', train_acc)\n",
    "print('Test accuracy: ', test_acc)"
   ]
  },
  {
   "cell_type": "code",
   "execution_count": 51,
   "metadata": {},
   "outputs": [
    {
     "name": "stdout",
     "output_type": "stream",
     "text": [
      "Model:  SGDClassifier(alpha=0.0001, average=False, class_weight=None, epsilon=0.1,\n",
      "       eta0=0.0, fit_intercept=True, l1_ratio=0.15,\n",
      "       learning_rate='optimal', loss='hinge', n_iter=5, n_jobs=1,\n",
      "       penalty='l2', power_t=0.5, random_state=None, shuffle=True,\n",
      "       verbose=0, warm_start=False)\n",
      "Precision Score:  0.89224418243\n",
      "Recall Score 0.88692768206\n",
      "Specificity Score:  0.898308250614 \n",
      "\n",
      "             precision    recall  f1-score   support\n",
      "\n",
      "        0.0       0.89      0.90      0.90     37476\n",
      "        1.0       0.89      0.89      0.89     35579\n",
      "\n",
      "avg / total       0.89      0.89      0.89     73055\n",
      "\n",
      "[[33665  3811]\n",
      " [ 4023 31556]]\n"
     ]
    }
   ],
   "source": [
    "prec_recal_score(sgd, X_train, y_train)"
   ]
  },
  {
   "cell_type": "code",
   "execution_count": 52,
   "metadata": {},
   "outputs": [
    {
     "name": "stdout",
     "output_type": "stream",
     "text": [
      "Model:  LogisticRegression(C=1.0, class_weight=None, dual=False, fit_intercept=True,\n",
      "          intercept_scaling=1, max_iter=100, multi_class='ovr', n_jobs=1,\n",
      "          penalty='l2', random_state=None, solver='liblinear', tol=0.0001,\n",
      "          verbose=0, warm_start=False)\n",
      "Precision Score:  0.935715689302\n",
      "Recall Score 0.936872874448\n",
      "Specificity Score:  0.938894225638 \n",
      "\n",
      "             precision    recall  f1-score   support\n",
      "\n",
      "        0.0       0.94      0.94      0.94     37476\n",
      "        1.0       0.94      0.94      0.94     35579\n",
      "\n",
      "avg / total       0.94      0.94      0.94     73055\n",
      "\n",
      "[[35186  2290]\n",
      " [ 2246 33333]]\n"
     ]
    }
   ],
   "source": [
    "prec_recal_score(lr, X_train, y_train)"
   ]
  },
  {
   "cell_type": "code",
   "execution_count": 55,
   "metadata": {},
   "outputs": [
    {
     "name": "stdout",
     "output_type": "stream",
     "text": [
      "Finished iteration:  0\n",
      "Finished iteration:  1\n",
      "Finished iteration:  2\n",
      "Finished iteration:  3\n",
      "Finished iteration:  4\n",
      "The accuracy is 0.936687873946\n"
     ]
    }
   ],
   "source": [
    "accuracy = []\n",
    "model = lr\n",
    "\n",
    "for i in range(5):\n",
    "    X_train, X_test, y_train, y_test = train_test_split(X_train, y_train, test_size = 0.2)\n",
    "    results = model.fit(X_train, y_train)\n",
    "    preds = model.predict(X_test)\n",
    "\n",
    "    preds[preds < .5] = 0\n",
    "    preds[preds >= .5] = 1\n",
    "    accuracy.append(np.mean(preds == y_test))\n",
    "    #accuracy.append(np.mean(predictions == Y_test))\n",
    "    print('Finished iteration: ', i)\n",
    "print('The accuracy is', sum(accuracy)/len(accuracy))"
   ]
  },
  {
   "cell_type": "code",
   "execution_count": null,
   "metadata": {
    "collapsed": true
   },
   "outputs": [],
   "source": []
  },
  {
   "cell_type": "code",
   "execution_count": null,
   "metadata": {
    "collapsed": true
   },
   "outputs": [],
   "source": []
  },
  {
   "cell_type": "code",
   "execution_count": null,
   "metadata": {
    "collapsed": true
   },
   "outputs": [],
   "source": []
  },
  {
   "cell_type": "code",
   "execution_count": null,
   "metadata": {
    "collapsed": true
   },
   "outputs": [],
   "source": []
  },
  {
   "cell_type": "code",
   "execution_count": null,
   "metadata": {
    "collapsed": true
   },
   "outputs": [],
   "source": []
  },
  {
   "cell_type": "code",
   "execution_count": null,
   "metadata": {
    "collapsed": true
   },
   "outputs": [],
   "source": []
  },
  {
   "cell_type": "code",
   "execution_count": null,
   "metadata": {
    "collapsed": true
   },
   "outputs": [],
   "source": []
  },
  {
   "cell_type": "code",
   "execution_count": 94,
   "metadata": {
    "collapsed": true
   },
   "outputs": [],
   "source": [
    "def getTeam_Name(team_id):\n",
    "    try:\n",
    "        name = teams[teams['Team_Id'] == team_id].Team_Name.values[0]\n",
    "    except:\n",
    "        name = 'No Team Name'\n",
    "    return name"
   ]
  },
  {
   "cell_type": "code",
   "execution_count": 101,
   "metadata": {
    "collapsed": true
   },
   "outputs": [],
   "source": [
    "def getTeam_ID(team_name):\n",
    "    try:\n",
    "        teamid = teams[teams['Team_Name'] == team_name].Team_Id.values[0]\n",
    "    except:\n",
    "        teamid = 'No Team Id'\n",
    "    return teamid"
   ]
  },
  {
   "cell_type": "code",
   "execution_count": 207,
   "metadata": {},
   "outputs": [
    {
     "data": {
      "text/plain": [
       "'F Dickinson'"
      ]
     },
     "execution_count": 207,
     "metadata": {},
     "output_type": "execute_result"
    }
   ],
   "source": [
    "getTeam_Name(1192)"
   ]
  },
  {
   "cell_type": "code",
   "execution_count": 413,
   "metadata": {
    "collapsed": true
   },
   "outputs": [],
   "source": [
    "def getSeason_Data(team_id, season_yr):\n",
    "    data_season = reg_season[(reg_season['Season'] == season_yr)]  #create dataframe for just season in question\n",
    "    games_won = data_season[data_season['Wteam'] == team_id]   #df of games won by season & team\n",
    "    games_lost = data_season[data_season['Lteam'] == team_id]   #df of games lost by season & team\n",
    "    all_games = games_won.append(games_lost)\n",
    "    \n",
    "    num_games = len(all_games.index)\n",
    "    \n",
    "    team_name = getTeam_Name(team_id)\n",
    "    test = reg_season[(reg_season['Wteam'] == team_id) & (reg_season['Season'] == season_yr)].head(1)\n",
    "    \n",
    "    if (team_name == 'No Team Name' or len(test) == 0):\n",
    "        season_3ptper = 0    \n",
    "        season_fgper = 0\n",
    "        season_ftper = 0\n",
    "        season_asts_pg = 0\n",
    "        season_stls_pg = 0\n",
    "        season_blks_pg = 0\n",
    "        season_tos_pg = 0\n",
    "        season_offreb_pg = 0\n",
    "        season_defreb_pg = 0\n",
    "        season_pf_pg = 0\n",
    "    else:\n",
    "        total_fgm = games_won.Wfgm.sum() + games_lost.Lfgm.sum()\n",
    "        total_fga = games_won.Wfga.sum() + games_lost.Lfga.sum()\n",
    "        season_fgper = total_fgm / total_fga\n",
    "\n",
    "        total_3ptm = games_won.Wfgm3.sum() + games_lost.Lfgm3.sum()\n",
    "        total_3pta = games_won.Wfga3.sum() + games_lost.Lfga3.sum()\n",
    "        season_3ptper = total_3ptm / total_3pta\n",
    "\n",
    "        total_ftm = games_won.Wftm.sum() + games_lost.Lftm.sum()\n",
    "        total_fta = games_won.Wfta.sum() + games_lost.Lfta.sum()\n",
    "        season_ftper = total_ftm / total_fta\n",
    "\n",
    "        total_offreb = games_won.Wor.sum() + games_lost.Lor.sum()\n",
    "        season_offreb_pg = total_offreb / num_games\n",
    "\n",
    "        total_defreb = games_won.Wdr.sum() + games_lost.Ldr.sum()\n",
    "        season_defreb_pg = total_defreb / num_games\n",
    "\n",
    "        total_asts = games_won.Wast.sum() + games_lost.Last.sum()\n",
    "        season_asts_pg = total_asts / num_games\n",
    "\n",
    "        total_tos = games_won.Wto.sum() + games_lost.Lto.sum()\n",
    "        season_tos_pg = total_tos / num_games\n",
    "\n",
    "        total_blks = games_won.Wblk.sum() + games_lost.Lblk.sum()\n",
    "        season_blks_pg = total_blks / num_games\n",
    "\n",
    "        total_stls = games_won.Wstl.sum() + games_lost.Lstl.sum()\n",
    "        season_stls_pg = total_stls / num_games\n",
    "\n",
    "        total_pfs = games_won.Wpf.sum() + games_lost.Lpf.sum()\n",
    "        season_pf_pg = total_pfs / num_games\n",
    "    \n",
    "    return [season_3ptper, season_fgper, season_ftper, season_asts_pg, #season_stls_pg,\n",
    "            season_blks_pg, season_tos_pg, season_offreb_pg, season_defreb_pg, season_pf_pg]\n",
    "    "
   ]
  },
  {
   "cell_type": "code",
   "execution_count": 112,
   "metadata": {},
   "outputs": [
    {
     "data": {
      "text/plain": [
       "1314"
      ]
     },
     "execution_count": 112,
     "metadata": {},
     "output_type": "execute_result"
    }
   ],
   "source": [
    "getTeam_ID('North Carolina')"
   ]
  },
  {
   "cell_type": "code",
   "execution_count": 119,
   "metadata": {},
   "outputs": [
    {
     "data": {
      "text/plain": [
       "[0.33925049309664695,\n",
       " 0.46070460704607047,\n",
       " 0.6820877817319099,\n",
       " 17.441176470588236,\n",
       " 6.823529411764706,\n",
       " 5.588235294117647,\n",
       " 11.764705882352942,\n",
       " 15.676470588235293,\n",
       " 29.38235294117647,\n",
       " 14.794117647058824]"
      ]
     },
     "execution_count": 119,
     "metadata": {},
     "output_type": "execute_result"
    }
   ],
   "source": [
    "team = 'North Carolina'\n",
    "getSeason_Data(getTeam_ID(team), 2012)"
   ]
  },
  {
   "cell_type": "code",
   "execution_count": 111,
   "metadata": {
    "collapsed": true
   },
   "outputs": [],
   "source": [
    "def Team_Compare(team_A, team_B, year):\n",
    "    team_1 = getSeason_Data(team_A, year)\n",
    "    team_2 = getSeason_Data(team_B, year)\n",
    "    diff = [a - b for a, b in zip(team_1, team_2)]\n",
    "    return diff"
   ]
  },
  {
   "cell_type": "code",
   "execution_count": 412,
   "metadata": {},
   "outputs": [
    {
     "data": {
      "text/plain": [
       "[-0.03309773620012402,\n",
       " -0.0191433031209845,\n",
       " -0.015010762433442792,\n",
       " -2.05241935483871,\n",
       " -0.05443548387096797,\n",
       " 0.5181451612903225,\n",
       " -2.911290322580646,\n",
       " -1.449596774193548,\n",
       " -2.066532258064516,\n",
       " 0.03830645161290391]"
      ]
     },
     "execution_count": 412,
     "metadata": {},
     "output_type": "execute_result"
    }
   ],
   "source": [
    "Team_Compare(1455, 1462, 2016)"
   ]
  },
  {
   "cell_type": "code",
   "execution_count": 107,
   "metadata": {
    "collapsed": true
   },
   "outputs": [],
   "source": [
    "team_list = teams['Team_Name'].tolist()"
   ]
  },
  {
   "cell_type": "code",
   "execution_count": 108,
   "metadata": {
    "collapsed": true
   },
   "outputs": [],
   "source": [
    "def MakeSeason_Dict(year):\n",
    "    season_dict = c.defaultdict(list)\n",
    "    for team in team_list:\n",
    "        team_id = teams[teams['Team_Name'] == team].values[0][0]\n",
    "        team_vector = Season_Data(team_id, year)\n",
    "        season_dict[team_id] = team_vector\n",
    "    return season_dict"
   ]
  },
  {
   "cell_type": "code",
   "execution_count": 390,
   "metadata": {
    "collapsed": true
   },
   "outputs": [],
   "source": [
    "models = {\n",
    "    'k-Nearest Neighbors': KNeighborsClassifier(),\n",
    "    'Gaussian Naive Bayes': GaussianNB(),\n",
    "    'Logistic Regression': LogisticRegression(),\n",
    "    'Decision Tree': DecisionTreeClassifier(),\n",
    "    'Random Forest': RandomForestClassifier(),\n",
    "    'Bernoulli Naive Bayes': BernoulliNB()\n",
    "}\n",
    "def predictOutcomes(team1, team2, year, X, y):\n",
    "    diff = Team_Compare(getTeam_ID(team1), getTeam_ID(team2), year)\n",
    "    outcomes = []\n",
    "    for k, v in models.items():\n",
    "        v.fit(X, y)\n",
    "        outcomes.append((k + ': ' + 'Probability that ' + team1_name + ' beats ' + team2_name + ': ', v.predict_proba(diff)[0,0]))\n",
    "        #outcomes.append(outcome)\n",
    "    return outcomes\n",
    "    #return model.predict(diff)"
   ]
  },
  {
   "cell_type": "code",
   "execution_count": 394,
   "metadata": {
    "collapsed": true
   },
   "outputs": [],
   "source": [
    "def predictOutcome(team1, team2, year, X, y):\n",
    "    diff = Team_Compare(team1, team2, year)\n",
    "    lr.fit(X, y)\n",
    "    return lr.predict_proba(diff)"
   ]
  },
  {
   "cell_type": "code",
   "execution_count": 351,
   "metadata": {},
   "outputs": [
    {
     "data": {
      "text/plain": [
       "[('k-Nearest Neighbors: Probability that Villanova beats Kansas: ',\n",
       "  0.80000000000000004),\n",
       " ('Gaussian Naive Bayes: Probability that Villanova beats Kansas: ',\n",
       "  0.46232592791322225),\n",
       " ('Logistic Regression: Probability that Villanova beats Kansas: ',\n",
       "  0.2450757105328305),\n",
       " ('Decision Tree: Probability that Villanova beats Kansas: ', 0.0),\n",
       " ('Random Forest: Probability that Villanova beats Kansas: ',\n",
       "  0.40000000000000002),\n",
       " ('Bernoulli Naive Bayes: Probability that Villanova beats Kansas: ',\n",
       "  0.43174711160664542)]"
      ]
     },
     "execution_count": 351,
     "metadata": {},
     "output_type": "execute_result"
    }
   ],
   "source": [
    "team1_name = 'Villanova'\n",
    "team2_name = 'Kansas'\n",
    "#year = 2017\n",
    "\n",
    "team1_vector = getSeason_Data(getTeam_ID(team1_name), year)\n",
    "team2_vector = getSeason_Data(getTeam_ID(team2_name), year)\n",
    "\n",
    "#print('Probability that ' + team1_name + ' wins:', predictOutcome(team1_name, team2_name, year))\n",
    "predictOutcome(team1_name, team2_name, year, X_train, y_train)"
   ]
  },
  {
   "cell_type": "code",
   "execution_count": 387,
   "metadata": {},
   "outputs": [
    {
     "data": {
      "text/plain": [
       "[0.37124463519313305,\n",
       " 0.46728354263053534,\n",
       " 0.6666666666666666,\n",
       " 15.074074074074074,\n",
       " 5.592592592592593,\n",
       " 4.518518518518518,\n",
       " 13.481481481481481,\n",
       " 13.481481481481481,\n",
       " 26.814814814814813,\n",
       " 17.962962962962962]"
      ]
     },
     "execution_count": 387,
     "metadata": {},
     "output_type": "execute_result"
    }
   ],
   "source": [
    "getSeason_Data(1463, 2016)"
   ]
  },
  {
   "cell_type": "code",
   "execution_count": 427,
   "metadata": {},
   "outputs": [
    {
     "data": {
      "text/html": [
       "<div>\n",
       "<style>\n",
       "    .dataframe thead tr:only-child th {\n",
       "        text-align: right;\n",
       "    }\n",
       "\n",
       "    .dataframe thead th {\n",
       "        text-align: left;\n",
       "    }\n",
       "\n",
       "    .dataframe tbody tr th {\n",
       "        vertical-align: top;\n",
       "    }\n",
       "</style>\n",
       "<table border=\"1\" class=\"dataframe\">\n",
       "  <thead>\n",
       "    <tr style=\"text-align: right;\">\n",
       "      <th></th>\n",
       "      <th>Id</th>\n",
       "      <th>Pred</th>\n",
       "    </tr>\n",
       "  </thead>\n",
       "  <tbody>\n",
       "    <tr>\n",
       "      <th>2273</th>\n",
       "      <td>2016_1455_1462</td>\n",
       "      <td>0.5</td>\n",
       "    </tr>\n",
       "    <tr>\n",
       "      <th>2274</th>\n",
       "      <td>2016_1455_1463</td>\n",
       "      <td>0.5</td>\n",
       "    </tr>\n",
       "    <tr>\n",
       "      <th>2275</th>\n",
       "      <td>2016_1458_1462</td>\n",
       "      <td>0.5</td>\n",
       "    </tr>\n",
       "    <tr>\n",
       "      <th>2276</th>\n",
       "      <td>2016_1458_1463</td>\n",
       "      <td>0.5</td>\n",
       "    </tr>\n",
       "    <tr>\n",
       "      <th>2277</th>\n",
       "      <td>2016_1462_1463</td>\n",
       "      <td>0.5</td>\n",
       "    </tr>\n",
       "  </tbody>\n",
       "</table>\n",
       "</div>"
      ],
      "text/plain": [
       "                  Id  Pred\n",
       "2273  2016_1455_1462   0.5\n",
       "2274  2016_1455_1463   0.5\n",
       "2275  2016_1458_1462   0.5\n",
       "2276  2016_1458_1463   0.5\n",
       "2277  2016_1462_1463   0.5"
      ]
     },
     "execution_count": 427,
     "metadata": {},
     "output_type": "execute_result"
    }
   ],
   "source": [
    "submission.tail()"
   ]
  },
  {
   "cell_type": "code",
   "execution_count": 414,
   "metadata": {
    "collapsed": true
   },
   "outputs": [],
   "source": [
    "def predictOutcome(team1, team2, year, X, y):\n",
    "    diff = Team_Compare(team1, team2, year)\n",
    "    lr = LogisticRegression()\n",
    "    lr.fit(X, y)\n",
    "    return lr.predict_proba(diff)"
   ]
  },
  {
   "cell_type": "code",
   "execution_count": 415,
   "metadata": {},
   "outputs": [
    {
     "data": {
      "text/plain": [
       "array([[ 0.5922446,  0.4077554]])"
      ]
     },
     "execution_count": 415,
     "metadata": {},
     "output_type": "execute_result"
    }
   ],
   "source": [
    "predictOutcome(1455, 1462, 2016, X_train, y_train)"
   ]
  },
  {
   "cell_type": "code",
   "execution_count": 444,
   "metadata": {
    "collapsed": true
   },
   "outputs": [],
   "source": [
    "sub = submission.head(10)"
   ]
  },
  {
   "cell_type": "code",
   "execution_count": 501,
   "metadata": {
    "collapsed": true
   },
   "outputs": [],
   "source": [
    "def createPrediction():\n",
    "    game_id = []\n",
    "    outcome_prob = []\n",
    "    sub_df = pd.DataFrame()\n",
    "    \n",
    "    for index, row in submission.iterrows():\n",
    "        id_row = row['Id']\n",
    "        year = int(id_row[0:4])\n",
    "        team1_id = int(id_row[5:9])\n",
    "        team2_id = int(id_row[10:14])\n",
    "\n",
    "        pred = predictOutcome(team1_id, team2_id, year, X_train, y_train)\n",
    "\n",
    "        game_id.append(id_row)\n",
    "        outcome_prob.append(pred[0,0])\n",
    "    sub_dict = dict(zip(game_id, outcome_prob))\n",
    "\n",
    "    outfile = open('2016_submission.csv', 'w')\n",
    "    for key, value in sorted(sub_dict.items()):\n",
    "        outfile.write( str(key) + ', ' + str(value) + '\\n')"
   ]
  },
  {
   "cell_type": "code",
   "execution_count": 502,
   "metadata": {
    "collapsed": true
   },
   "outputs": [],
   "source": [
    "#createPrediction()"
   ]
  },
  {
   "cell_type": "code",
   "execution_count": null,
   "metadata": {
    "collapsed": true
   },
   "outputs": [],
   "source": []
  }
 ],
 "metadata": {
  "kernelspec": {
   "display_name": "Python 3",
   "language": "python",
   "name": "python3"
  },
  "language_info": {
   "codemirror_mode": {
    "name": "ipython",
    "version": 3
   },
   "file_extension": ".py",
   "mimetype": "text/x-python",
   "name": "python",
   "nbconvert_exporter": "python",
   "pygments_lexer": "ipython3",
   "version": "3.6.1"
  }
 },
 "nbformat": 4,
 "nbformat_minor": 2
}
